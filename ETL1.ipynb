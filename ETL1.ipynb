{
 "cells": [
  {
   "cell_type": "markdown",
   "metadata": {},
   "source": [
    "**Sun Trail is a hiking improvement app**"
   ]
  },
  {
   "cell_type": "code",
   "execution_count": null,
   "metadata": {},
   "outputs": [],
   "source": [
    "#imports\n",
    "\n",
    "import matplotlib.pyplot as plt\n",
    "import pandas as pd\n",
    "import numpy as np\n",
    "import requests\n",
    "import time\n",
    "import pymongo\n",
    "\n",
    "from apikey import key"
   ]
  },
  {
   "cell_type": "markdown",
   "metadata": {},
   "source": [
    "**Sun Trail has access to  data from their followers on instragam**"
   ]
  },
  {
   "cell_type": "code",
   "execution_count": 134,
   "metadata": {},
   "outputs": [],
   "source": [
    "#(calling on instagrams api to get the user information of all of suntrails followers)\n",
    "\n",
    "url = 'https://randomuser.me/api/'\n",
    "#Using a batch size of 50\n",
    "userList = ['']*50\n",
    "\n",
    "# *** ---------------------------------------------------- ***\n",
    "# *** This cell must be executed before each batch attempt ***\n",
    "# *** ---------------------------------------------------- ***"
   ]
  },
  {
   "cell_type": "code",
   "execution_count": null,
   "metadata": {},
   "outputs": [],
   "source": [
    "#Make calls on randomuser api to generate user data\n",
    "\n",
    "for i, u in enumerate(userList):\n",
    "    r = requests.get(url).json()\n",
    "    userList[i] = r['results'][0]\n",
    "    \n",
    "\n",
    "userList = list(filter(None, userList))"
   ]
  },
  {
   "cell_type": "code",
   "execution_count": null,
   "metadata": {},
   "outputs": [],
   "source": [
    "userBank.append(userList)\n",
    "len(userBank[3])\n",
    "userBank[]"
   ]
  },
  {
   "cell_type": "code",
   "execution_count": 140,
   "metadata": {},
   "outputs": [],
   "source": [
    "#Create our XL databank storing batches in a single list\n",
    "BigBank = []\n",
    "\n",
    "for ulist in userBank:\n",
    "    for item in ulist:\n",
    "        BigBank.append(item)\n",
    "\n",
    "#Look at the size of that B--ank!\n",
    "len(BigBank)"
   ]
  },
  {
   "cell_type": "markdown",
   "metadata": {},
   "source": [
    "**What are you doing with all that user data SunTrail?**\n",
    "\n",
    "\"Well we are launching our latest and greatest ad campaign of course! The last one was a bit of a flop, but we are adamant that everyone loves to hike! We believe with some restructuring, and more of a targeted ad campaign we can reach our audience and get to market in no time\"\n",
    "\n",
    "**That sounds great**\n",
    "\n",
    "\"Yea\"\n",
    "\n",
    "**That user data seems a bit random to me...**\n",
    "\n",
    "\"Well we haven't gotten to the secrete sauce here mate. We're only going to be spending money on ads when a hike sounds appealing, like say it's below 60 F, nobody is interested. But say, 70 F or above?? Take a hike!"
   ]
  },
  {
   "cell_type": "code",
   "execution_count": 197,
   "metadata": {},
   "outputs": [],
   "source": [
    "#Query weather api for current weather data in each users city\n",
    "weatherList = []\n",
    "\n",
    "for u in BigBank:\n",
    "    city = u['location']['city']\n",
    "    url = f'http://api.openweathermap.org/data/2.5/weather?q={city}&appid={key}'\n",
    "    r = requests.get(url).json()\n",
    "    weatherList.append(r)"
   ]
  },
  {
   "cell_type": "code",
   "execution_count": 167,
   "metadata": {},
   "outputs": [],
   "source": [
    "#TEST CELL\n",
    "#Find index values where openweathermap api has no data for corresponding city\n",
    "#Create list of index values to drop\n",
    "index_drop = []\n",
    "\n",
    "for i, x in enumerate(weatherList):\n",
    "    if weatherList[i]['cod']=='404':\n",
    "        index_drop.append(i)\n",
    "        \n"
   ]
  },
  {
   "cell_type": "code",
   "execution_count": 168,
   "metadata": {},
   "outputs": [
    {
     "name": "stdout",
     "output_type": "stream",
     "text": [
      "[20, 28, 32, 39, 45, 78, 98, 108, 110, 119]\n"
     ]
    },
    {
     "data": {
      "text/plain": [
       "[20, 27, 30, 36, 41, 73, 92, 101, 102, 110]"
      ]
     },
     "execution_count": 168,
     "metadata": {},
     "output_type": "execute_result"
    }
   ],
   "source": [
    "#Actualizing index pop values for processing\n",
    "print(index_drop[:10])\n",
    "\n",
    "for i, x in enumerate(index_drop):\n",
    "    index_drop[i] = x-i\n",
    "index_drop[:10]"
   ]
  },
  {
   "cell_type": "code",
   "execution_count": 170,
   "metadata": {},
   "outputs": [],
   "source": [
    "#popping null data\n",
    "for i in index_drop:\n",
    "    weatherList.pop(i)\n",
    "    BigBank.pop(i)"
   ]
  },
  {
   "cell_type": "code",
   "execution_count": 171,
   "metadata": {},
   "outputs": [],
   "source": [
    "#Sanity Check (should be equally sized lists)\n",
    "\n",
    "print(len(weatherList))\n",
    "print(len(BigBank))"
   ]
  },
  {
   "cell_type": "code",
   "execution_count": null,
   "metadata": {},
   "outputs": [],
   "source": [
    "#Re-Run the above ^ TEST CELL to endsure no remaining null values are in our data set"
   ]
  },
  {
   "cell_type": "code",
   "execution_count": 191,
   "metadata": {},
   "outputs": [],
   "source": [
    "#DATA PREPARATION (grabbing and sorting relevant data features)\n",
    "\n",
    "#Create lists with weather data to populate DataFrame columns\n",
    "tempList = []\n",
    "humList = []\n",
    "visiList = []\n",
    "windList = []\n",
    "cloudList = []\n",
    "zoneList = []\n",
    "\n",
    "#Create lists with user data to populate DataFrame columns\n",
    "genderList = []\n",
    "fnameList = []\n",
    "lnameList = []\n",
    "cityList = []\n",
    "stateList = []\n",
    "countryList = []\n",
    "emailList = []\n",
    "usernameList = []\n",
    "ageList = []\n",
    "\n",
    "#Iterate through our data and sort into respective columns\n",
    "for i, x in enumerate(weatherList):\n",
    "    tempList.append(weatherList[i]['main']['temp'])\n",
    "    humList.append(weatherList[i]['main']['humidity'])\n",
    "    visiList.append(weatherList[i]['visibility'])\n",
    "    windList.append(weatherList[i]['wind']['speed'])\n",
    "    cloudList.append(weatherList[i]['clouds']['all'])\n",
    "    zoneList.append(weatherList[i]['timezone'])\n",
    "    \n",
    "    genderList.append(BigBank[i]['gender'])\n",
    "    fnameList.append(BigBank[i]['name']['first'])\n",
    "    lnameList.append(BigBank[i]['name']['last'])\n",
    "    cityList.append(BigBank[i]['location']['city'])\n",
    "    stateList.append(BigBank[i]['location']['state'])\n",
    "    countryList.append(BigBank[i]['location']['country'])\n",
    "    emailList.append(BigBank[i]['email'])\n",
    "    usernameList.append(BigBank[i]['login']['username'])\n",
    "    ageList.append(BigBank[i]['dob']['age'])"
   ]
  },
  {
   "cell_type": "code",
   "execution_count": 195,
   "metadata": {},
   "outputs": [],
   "source": [
    "#populate dataframe \n",
    "\n",
    "df = pd.DataFrame()\n",
    "df.insert(0, 'Temperature', tempList)\n",
    "df.insert(1, 'Humidity', humList)\n",
    "df.insert(2, 'Visibility', visiList)\n",
    "df.insert(3, 'Wind', windList)\n",
    "df.insert(4, 'TimeZone', zoneList)\n",
    "df.insert(5, 'Gender', genderList)\n",
    "df.insert(6, 'First Name', fnameList)\n",
    "df.insert(7, 'Last Name', lnameList)\n",
    "df.insert(8, 'City', cityList)\n",
    "df.insert(9, 'State', stateList)\n",
    "df.insert(10, 'Country', countryList)\n",
    "df.insert(11, 'Email', emailList)\n",
    "df.insert(12, 'Username', usernameList)\n",
    "df.insert(13, 'Age', ageList)\n",
    "\n",
    "#Convert Kelvin temperature data to Fahrenheit\n",
    "df['Temperature'] = 1.8*(df['Temperature'] - 273) + 32\n",
    "df['Temperature'] = round(df['Temperature'], 2)"
   ]
  },
  {
   "cell_type": "code",
   "execution_count": 209,
   "metadata": {},
   "outputs": [],
   "source": [
    "#Create a target group DataFrame where the temperature is 70 or greater, and wind is less than 5\n",
    "targetDF = df.loc[df['Temperature']>69.99]\n",
    "targetDF = targetDF.loc[targetDF['Wind']<5]"
   ]
  },
  {
   "cell_type": "code",
   "execution_count": null,
   "metadata": {},
   "outputs": [],
   "source": [
    "#Convert Dataframes to dictionaries (preparing data for mongoDB)\n",
    "#We are using a non-relational database \n",
    "\n",
    "#Store data in mongoDB database ('MongoDatabase database'? idk if im saying that right but anyways..)\n",
    "conn = 'mongodb://localhost:27017'\n",
    "client = pymongo.MongoClient(conn)\n",
    "\n",
    "# Define the 'TargetGroup' Collection in Mongo\n",
    "db = client.TargetGroup\n",
    "data = targetDF.to_dict(orient='records')\n",
    "db.TargetGroup.insert_many(data)"
   ]
  },
  {
   "cell_type": "code",
   "execution_count": 234,
   "metadata": {},
   "outputs": [
    {
     "data": {
      "text/plain": [
       "<pymongo.results.InsertManyResult at 0x1210042d0>"
      ]
     },
     "execution_count": 234,
     "metadata": {},
     "output_type": "execute_result"
    }
   ],
   "source": [
    "# Define and populate 'SunFollowers' Collection in Mongo\n",
    "db = client.SunFollowers\n",
    "data = df.to_dict(orient='records')\n",
    "db.SunFollowers.insert_many(data)\n",
    "\n",
    "#Decided to insert 'df' into our database rather than 'BigBank' \n",
    "#because keeping the weather data on users we did not target could be valuable"
   ]
  },
  {
   "cell_type": "code",
   "execution_count": null,
   "metadata": {},
   "outputs": [],
   "source": []
  }
 ],
 "metadata": {
  "kernelspec": {
   "display_name": "Python 3",
   "language": "python",
   "name": "python3"
  },
  "language_info": {
   "codemirror_mode": {
    "name": "ipython",
    "version": 3
   },
   "file_extension": ".py",
   "mimetype": "text/x-python",
   "name": "python",
   "nbconvert_exporter": "python",
   "pygments_lexer": "ipython3",
   "version": "3.7.6"
  }
 },
 "nbformat": 4,
 "nbformat_minor": 4
}
